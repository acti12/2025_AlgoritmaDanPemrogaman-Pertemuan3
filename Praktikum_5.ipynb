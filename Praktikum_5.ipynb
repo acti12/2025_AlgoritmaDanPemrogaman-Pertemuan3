{
  "nbformat": 4,
  "nbformat_minor": 0,
  "metadata": {
    "colab": {
      "provenance": [],
      "authorship_tag": "ABX9TyM7yU9oQAr4yY9TRsXNsAW7",
      "include_colab_link": true
    },
    "kernelspec": {
      "name": "python3",
      "display_name": "Python 3"
    },
    "language_info": {
      "name": "python"
    }
  },
  "cells": [
    {
      "cell_type": "markdown",
      "metadata": {
        "id": "view-in-github",
        "colab_type": "text"
      },
      "source": [
        "<a href=\"https://colab.research.google.com/github/acti12/2025_AlgoritmaDanPemrogaman-Pertemuan3/blob/main/Praktikum_5.ipynb\" target=\"_parent\"><img src=\"https://colab.research.google.com/assets/colab-badge.svg\" alt=\"Open In Colab\"/></a>"
      ]
    },
    {
      "cell_type": "markdown",
      "source": [
        "# Praktikum 1 - Indexing dan Slicing"
      ],
      "metadata": {
        "id": "IADMQWYT98a7"
      }
    },
    {
      "cell_type": "code",
      "execution_count": null,
      "metadata": {
        "colab": {
          "base_uri": "https://localhost:8080/"
        },
        "id": "HrvyNFaj95oB",
        "outputId": "7883e490-8a4c-44e6-a283-abb71fa63082"
      },
      "outputs": [
        {
          "output_type": "stream",
          "name": "stdout",
          "text": [
            "P\n",
            "Politeknik \n",
            "Semarang\n"
          ]
        }
      ],
      "source": [
        "teks = \"Politeknik Negeri Semarang\"\n",
        "\n",
        "print(teks[0])        # 'P'\n",
        "print(teks[0:11])     # 'Politeknik'\n",
        "print(teks[-8:])      # 'Semarang'"
      ]
    },
    {
      "cell_type": "markdown",
      "source": [
        "# Praktikum 2 - Methon Bawaan String"
      ],
      "metadata": {
        "id": "zeZVHSi2-gG9"
      }
    },
    {
      "cell_type": "code",
      "source": [
        "teks = \" Politeknik Negeri Semarang \"\n",
        "print(teks.upper())\n",
        "print(teks.lower())\n",
        "print(teks.title())\n",
        "print(teks.strip())\n",
        "print(teks.split(\" \"))\n",
        "print(\"-\".join([\"Politeknik\",\"Negeri\", \"Semarang\"]))"
      ],
      "metadata": {
        "colab": {
          "base_uri": "https://localhost:8080/"
        },
        "id": "Taeega78-fJD",
        "outputId": "027bc0db-073f-4582-f3b7-85f438f01548"
      },
      "execution_count": null,
      "outputs": [
        {
          "output_type": "stream",
          "name": "stdout",
          "text": [
            " POLITEKNIK NEGERI SEMARANG \n",
            " politeknik negeri semarang \n",
            " Politeknik Negeri Semarang \n",
            "Politeknik Negeri Semarang\n",
            "['', 'Politeknik', 'Negeri', 'Semarang', '']\n",
            "Politeknik-Negeri-Semarang\n"
          ]
        }
      ]
    },
    {
      "cell_type": "markdown",
      "source": [
        "# Praktikum 3 - Validasi Passwords"
      ],
      "metadata": {
        "id": "BlJzf95j_pBI"
      }
    },
    {
      "cell_type": "code",
      "source": [
        "password = input(\"Masukkan password: \")\n",
        "if len(password) >= 8:\n",
        "\n",
        "  print(\"Password valid\")\n",
        "else:\n",
        "  print(\"Password terlalu pendek\")"
      ],
      "metadata": {
        "colab": {
          "base_uri": "https://localhost:8080/"
        },
        "id": "9Knefk78_r0u",
        "outputId": "882d2c9a-093c-4427-a80e-159177d3b66f"
      },
      "execution_count": null,
      "outputs": [
        {
          "output_type": "stream",
          "name": "stdout",
          "text": [
            "Masukkan password: python123\n",
            "Password valid\n"
          ]
        }
      ]
    },
    {
      "cell_type": "code",
      "source": [
        "password = input(\"Masukkan password: \")\n",
        "if len(password) >= 8:\n",
        "\n",
        "  print(\"Password valid\")\n",
        "else:\n",
        "  print(\"Password terlalu pendek\")"
      ],
      "metadata": {
        "colab": {
          "base_uri": "https://localhost:8080/"
        },
        "id": "P_LToUyKAjEt",
        "outputId": "5673f1d3-625e-490f-de7d-2f288595bd67"
      },
      "execution_count": null,
      "outputs": [
        {
          "output_type": "stream",
          "name": "stdout",
          "text": [
            "Masukkan password: abc\n",
            "Password terlalu pendek\n"
          ]
        }
      ]
    },
    {
      "cell_type": "markdown",
      "source": [
        "# Praktikum 4 - String Formatting dengan F-String"
      ],
      "metadata": {
        "id": "zzgnS85lAoIm"
      }
    },
    {
      "cell_type": "code",
      "source": [
        "nama = input(\"Masukkan nama: \")\n",
        "umur = int(input(\"Masukkan umur: \"))\n",
        "\n",
        "print(f\"Nama saya {nama}, umur {umur} tahun\")"
      ],
      "metadata": {
        "colab": {
          "base_uri": "https://localhost:8080/"
        },
        "id": "G1gc_Q9XAsc_",
        "outputId": "cbf6785c-193d-44c9-a698-cbe3d0e747d8"
      },
      "execution_count": null,
      "outputs": [
        {
          "output_type": "stream",
          "name": "stdout",
          "text": [
            "Masukkan nama: Budi\n",
            "Masukkan umur: 21\n",
            "Nama saya Budi, umur 21 tahun\n"
          ]
        }
      ]
    },
    {
      "cell_type": "markdown",
      "source": [
        "# Praktikum 5 - Operasi dalam F-String"
      ],
      "metadata": {
        "id": "EPG3dm4XA-CI"
      }
    },
    {
      "cell_type": "code",
      "source": [
        "a = int(input(\"Masukkan nilai a: \"))\n",
        "b = int(input(\"Masukkan nilai b: \"))\n",
        "\n",
        "print(f\"Hasil penjmmlahan {a} + {b} = {a + b}\")\n",
        "print(f\"Hasil pembagian {a} / {b} = {a/b:.2f}\")"
      ],
      "metadata": {
        "colab": {
          "base_uri": "https://localhost:8080/"
        },
        "id": "WUSAYpncBEDy",
        "outputId": "bee5cc80-7342-44f1-d493-f2ae7d9b5562"
      },
      "execution_count": null,
      "outputs": [
        {
          "output_type": "stream",
          "name": "stdout",
          "text": [
            "Masukkan nilai a: 10\n",
            "Masukkan nilai b: 3\n",
            "Hasil penjmmlahan 10 + 3 = 13\n",
            "Hasil pembagian 10 / 3 = 3.33\n"
          ]
        }
      ]
    },
    {
      "cell_type": "markdown",
      "source": [
        "# Praktikum 6 - Casting String"
      ],
      "metadata": {
        "id": "l2w-axM0BmnF"
      }
    },
    {
      "cell_type": "code",
      "source": [
        "angka = 123\n",
        "teks = \"456\"\n",
        "\n",
        "print(\"Nilai: \" + str(angka))\n",
        "print(int(teks) + 10)"
      ],
      "metadata": {
        "colab": {
          "base_uri": "https://localhost:8080/"
        },
        "id": "hVpP6Os0BpjJ",
        "outputId": "b8c51fba-c4e0-4545-d91f-c8d9da09aede"
      },
      "execution_count": null,
      "outputs": [
        {
          "output_type": "stream",
          "name": "stdout",
          "text": [
            "Nilai: 123\n",
            "466\n"
          ]
        }
      ]
    },
    {
      "cell_type": "markdown",
      "source": [
        "# Praktikum 7 - Studi Kasus Nyata : Analisis Kalimat"
      ],
      "metadata": {
        "id": "8D2ed1fPCAhd"
      }
    },
    {
      "cell_type": "code",
      "source": [
        "kalimat = \"Saya kuliah di Politeknik Negeri Semarang\"\n",
        "daftar_kata = kalimat.split(\" \")\n",
        "\n",
        "print(f\"Jumlah kata: {len(daftar_kata)}\")\n",
        "for i, kata in enumerate(daftar_kata, start=1):\n",
        "  print(i, kata)"
      ],
      "metadata": {
        "colab": {
          "base_uri": "https://localhost:8080/"
        },
        "id": "F5IO9cdiCFZo",
        "outputId": "b0d54e73-a5b6-470e-d76b-8d259ec6f00b"
      },
      "execution_count": null,
      "outputs": [
        {
          "output_type": "stream",
          "name": "stdout",
          "text": [
            "Jumlah kata: 6\n",
            "1 Saya\n",
            "2 kuliah\n",
            "3 di\n",
            "4 Politeknik\n",
            "5 Negeri\n",
            "6 Semarang\n"
          ]
        }
      ]
    },
    {
      "cell_type": "markdown",
      "source": [
        "# Penugasan 1 - Indexing dan Slicing"
      ],
      "metadata": {
        "id": "Ar0QeupDC_0-"
      }
    },
    {
      "cell_type": "code",
      "source": [
        "teks = \"Politeknik Negeri Semarang\"\n",
        "\n",
        "print(\"Huruf pertama:\", teks[0])\n",
        "print(\"Huruf terakhir: \", teks[-1])\n",
        "print(\"Kata 'Negeri' : \", teks[11:17])"
      ],
      "metadata": {
        "colab": {
          "base_uri": "https://localhost:8080/"
        },
        "id": "EyYnLB2PDCxj",
        "outputId": "0622eec7-2697-4bb8-fa39-fc3d5aab25a6"
      },
      "execution_count": null,
      "outputs": [
        {
          "output_type": "stream",
          "name": "stdout",
          "text": [
            "Huruf pertama: P\n",
            "Huruf terakhir:  g\n",
            "Kata 'Negeri' :  Negeri\n"
          ]
        }
      ]
    },
    {
      "cell_type": "markdown",
      "source": [
        "# Penugasan 2 - Manipulasi String"
      ],
      "metadata": {
        "id": "G366KDk3Dhb-"
      }
    },
    {
      "cell_type": "code",
      "source": [
        "kalimat = input(\"Masukkan sebuah kalimat: \")\n",
        "\n",
        "print(\"Huruf kapital: \", kalimat.upper())\n",
        "print(\"Huruf kecil: \", kalimat.lower())\n",
        "print(\"Panjang kalimat: \", len(kalimat))"
      ],
      "metadata": {
        "colab": {
          "base_uri": "https://localhost:8080/"
        },
        "id": "3r2E7vzJDkSf",
        "outputId": "87b5b6ea-eefb-4742-afa6-c70e902ee3be"
      },
      "execution_count": null,
      "outputs": [
        {
          "output_type": "stream",
          "name": "stdout",
          "text": [
            "Masukkan sebuah kalimat: Ascension To Heaven\n",
            "Huruf kapital:  ASCENSION TO HEAVEN\n",
            "Huruf kecil:  ascension to heaven\n",
            "Panjang kalimat:  19\n"
          ]
        }
      ]
    },
    {
      "cell_type": "markdown",
      "source": [
        "# Penugasan 3 - Validasi Username"
      ],
      "metadata": {
        "id": "h7hoyDzGD841"
      }
    },
    {
      "cell_type": "code",
      "source": [
        "username = input(\"Masukkan username: \")\n",
        "\n",
        "if \" \" in username:\n",
        "  print(\"Error: Username tidak boleh mangandung spasi!\")\n",
        "else:\n",
        "  print(\"Username valid.\")"
      ],
      "metadata": {
        "colab": {
          "base_uri": "https://localhost:8080/"
        },
        "id": "r1b-NFOFD_Hp",
        "outputId": "29cf5c56-07d6-4807-a124-e59bd555b990"
      },
      "execution_count": null,
      "outputs": [
        {
          "output_type": "stream",
          "name": "stdout",
          "text": [
            "Masukkan username: rafael marcello\n",
            "Error: Username tidak boleh mangandung spasi!\n"
          ]
        }
      ]
    },
    {
      "cell_type": "code",
      "source": [
        "username = input(\"Masukkan username: \")\n",
        "\n",
        "if \" \" in username:\n",
        "  print(\"Error: Username tidak boleh mangandung spasi!\")\n",
        "else:\n",
        "  print(\"Username valid.\")"
      ],
      "metadata": {
        "colab": {
          "base_uri": "https://localhost:8080/"
        },
        "id": "viX9lTAuEvqm",
        "outputId": "309e3ffa-fe00-48a3-bd21-0e7d0ddfe0e3"
      },
      "execution_count": null,
      "outputs": [
        {
          "output_type": "stream",
          "name": "stdout",
          "text": [
            "Masukkan username: acti23\n",
            "Username valid.\n"
          ]
        }
      ]
    },
    {
      "cell_type": "markdown",
      "source": [
        "# Penugasan 4 - String Formatting dengan F-String"
      ],
      "metadata": {
        "id": "W927AW01E0py"
      }
    },
    {
      "cell_type": "code",
      "source": [
        "nama = input(\"Masukkan nama: \")\n",
        "umur = input(\"Masukkan umur: \")\n",
        "jurusan = input(\"Masukkan jurusan: \")\n",
        "\n",
        "print(f\"Nama: {nama}\")\n",
        "print(f\"Umur: {umur}\")\n",
        "print(f\"Jurusan: {jurusan}\")"
      ],
      "metadata": {
        "colab": {
          "base_uri": "https://localhost:8080/"
        },
        "id": "L2sKmNbHFNPP",
        "outputId": "0960d1fc-53b0-4b1b-b01c-7f1174ce37f5"
      },
      "execution_count": null,
      "outputs": [
        {
          "output_type": "stream",
          "name": "stdout",
          "text": [
            "Masukkan nama: Rafael\n",
            "Masukkan umur: 19\n",
            "Masukkan jurusan: Elektro\n",
            "Nama: Rafael\n",
            "Umur: 19\n",
            "Jurusan: Elektro\n"
          ]
        }
      ]
    },
    {
      "cell_type": "markdown",
      "source": [
        "# Penugasan 5 - Operasi dalam F-String"
      ],
      "metadata": {
        "id": "nfVFgPiJGOgS"
      }
    },
    {
      "cell_type": "code",
      "source": [
        "a = float(input(\"Masukkan bilangan pertama: \"))\n",
        "b = float(input(\"Masukkan bilangan kedua: \"))\n",
        "\n",
        "print(f\"Penjumlahan: {a + b}\")\n",
        "print(f\"Perkalin: {a * b}\")\n",
        "print(f\"Hasil pembagian: {a / b:.3f}\")"
      ],
      "metadata": {
        "id": "le41uT0AGRuy"
      },
      "execution_count": null,
      "outputs": []
    },
    {
      "cell_type": "markdown",
      "source": [
        "# Penugasan 6 - Casting Data"
      ],
      "metadata": {
        "id": "9RzvLu86GuNw"
      }
    },
    {
      "cell_type": "code",
      "source": [
        "angka_str = input(\"Masukkan angka (string): \")\n",
        "\n",
        "angka_int = int(angka_str)\n",
        "angka_float = float(angka_str)\n",
        "\n",
        "print(f\"Kuadrat dari {angka_int}: {angka_int ** 2}\")\n",
        "print(f\"Sebagai float (2 angka di belakang koma): {angka_float:.2f}\")\n"
      ],
      "metadata": {
        "colab": {
          "base_uri": "https://localhost:8080/"
        },
        "id": "F5X0X_kPGwSc",
        "outputId": "b8d590c9-d84e-4ea0-9aea-848092555ec9"
      },
      "execution_count": null,
      "outputs": [
        {
          "output_type": "stream",
          "name": "stdout",
          "text": [
            "Masukkan angka (string): 3\n",
            "Kuadrat dari 3: 9\n",
            "Sebagai float (2 angka di belakang koma): 3.00\n"
          ]
        }
      ]
    },
    {
      "cell_type": "markdown",
      "source": [
        "# Penugasan 7 - Studi Kasus - Analisis Teks"
      ],
      "metadata": {
        "id": "AyiIEbWnGyl2"
      }
    },
    {
      "cell_type": "code",
      "source": [
        "kalimat = input(\"Masukkan sebuah kalimat: \")\n",
        "kata_list = kalimat.split()\n",
        "print(\"Jumlah kata:\", len(kata_list))\n",
        "\n",
        "kata_terpanjang = max(kata_list, key=len)\n",
        "print(\"Kata terpanjang: \", kata_terpanjang)\n",
        "\n",
        "kata_list.sort()\n",
        "print(\"Daftar kata (urut abjad): \", kata_list)"
      ],
      "metadata": {
        "id": "J0IcjSvrG_Ro",
        "colab": {
          "base_uri": "https://localhost:8080/"
        },
        "outputId": "78d6a2bf-8565-4510-f112-6d43f3acbcde"
      },
      "execution_count": 25,
      "outputs": [
        {
          "output_type": "stream",
          "name": "stdout",
          "text": [
            "Masukkan sebuah kalimat: The Devourer of Gods\n",
            "Jumlah kata: 4\n",
            "Kata terpanjang:  Devourer\n",
            "Daftar kata (urut abjad):  ['Devourer', 'Gods', 'The', 'of']\n",
            "Masukkan sebuah kalimat: Life Could Be A Dream\n",
            "Jumlah kata: 5\n",
            "Kata terpanjang:  Could\n",
            "Daftar kata (urut abjad):  ['A', 'Be', 'Could', 'Dream', 'Life']\n"
          ]
        }
      ]
    }
  ]
}