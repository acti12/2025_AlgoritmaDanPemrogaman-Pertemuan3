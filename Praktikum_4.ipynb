{
  "nbformat": 4,
  "nbformat_minor": 0,
  "metadata": {
    "colab": {
      "provenance": [],
      "authorship_tag": "ABX9TyMQsn2opYteGAP5aah/tYLH",
      "include_colab_link": true
    },
    "kernelspec": {
      "name": "python3",
      "display_name": "Python 3"
    },
    "language_info": {
      "name": "python"
    }
  },
  "cells": [
    {
      "cell_type": "markdown",
      "metadata": {
        "id": "view-in-github",
        "colab_type": "text"
      },
      "source": [
        "<a href=\"https://colab.research.google.com/github/acti12/2025_AlgoritmaDanPemrogaman-Pertemuan3/blob/main/Praktikum_4.ipynb\" target=\"_parent\"><img src=\"https://colab.research.google.com/assets/colab-badge.svg\" alt=\"Open In Colab\"/></a>"
      ]
    },
    {
      "cell_type": "markdown",
      "source": [
        "# Praktikum 1 - Perulangan For dengna Range"
      ],
      "metadata": {
        "id": "IvotKbwsijb_"
      }
    },
    {
      "cell_type": "code",
      "source": [
        "for i in range(1,6):\n",
        "    print(i)"
      ],
      "metadata": {
        "colab": {
          "base_uri": "https://localhost:8080/"
        },
        "id": "iHVUOI-EiLyr",
        "outputId": "44dc2d3c-3e77-44b7-9a0d-6ec5fe760e0f"
      },
      "execution_count": null,
      "outputs": [
        {
          "output_type": "stream",
          "name": "stdout",
          "text": [
            "1\n",
            "2\n",
            "3\n",
            "4\n",
            "5\n"
          ]
        }
      ]
    },
    {
      "cell_type": "markdown",
      "source": [
        "# Praktikum 2 - Perulangan While"
      ],
      "metadata": {
        "id": "_QS8iAeRjFgS"
      }
    },
    {
      "cell_type": "code",
      "source": [
        "n = int(input(\"Masukkan angka: \"))\n",
        "while n > 0:\n",
        "    print(n)\n",
        "    n-=1"
      ],
      "metadata": {
        "colab": {
          "base_uri": "https://localhost:8080/"
        },
        "id": "gYMXAX3wisFS",
        "outputId": "f5fecdb3-1899-4baf-c993-4fcebb3643f1"
      },
      "execution_count": null,
      "outputs": [
        {
          "output_type": "stream",
          "name": "stdout",
          "text": [
            "Masukkan angka: 5\n",
            "5\n",
            "4\n",
            "3\n",
            "2\n",
            "1\n"
          ]
        }
      ]
    },
    {
      "cell_type": "markdown",
      "source": [
        "# Praktikum 3 - Nested Loop (Segitiga Bintang)"
      ],
      "metadata": {
        "id": "KFV_j7MZjo2N"
      }
    },
    {
      "cell_type": "code",
      "source": [
        "for i in range(1, 6):\n",
        "  for j in range(i):\n",
        "    print(\"*\", end=\"\")\n",
        "  print()"
      ],
      "metadata": {
        "colab": {
          "base_uri": "https://localhost:8080/"
        },
        "id": "dCJ9y8eAir9Q",
        "outputId": "c87df920-3c5a-41f5-b66b-77c844228cbd"
      },
      "execution_count": null,
      "outputs": [
        {
          "output_type": "stream",
          "name": "stdout",
          "text": [
            "*\n",
            "**\n",
            "***\n",
            "****\n",
            "*****\n"
          ]
        }
      ]
    },
    {
      "cell_type": "markdown",
      "source": [
        "# Praktikum 4 - Break dan Continue"
      ],
      "metadata": {
        "id": "rU__CYZNkOi8"
      }
    },
    {
      "cell_type": "code",
      "source": [
        "# Break\n",
        "\n",
        "for i in range(1, 11):\n",
        "    if i == 5:\n",
        "        print(\"Angka 5 ditemukan\")\n",
        "        break"
      ],
      "metadata": {
        "colab": {
          "base_uri": "https://localhost:8080/"
        },
        "id": "CzM4M3d1irCR",
        "outputId": "3bd60f75-74cc-42b1-8710-f8ceea43b318"
      },
      "execution_count": null,
      "outputs": [
        {
          "output_type": "stream",
          "name": "stdout",
          "text": [
            "Angka 5 ditemukan\n"
          ]
        }
      ]
    },
    {
      "cell_type": "code",
      "source": [
        "# Continue\n",
        "\n",
        "for i in range(1,6):\n",
        "  if i % 2 == 1:\n",
        "    continue\n",
        "  print(i)"
      ],
      "metadata": {
        "colab": {
          "base_uri": "https://localhost:8080/"
        },
        "id": "zVc_0h0dlQSB",
        "outputId": "b4b8c47e-d1be-4570-f26e-edb4b0e10a7c"
      },
      "execution_count": null,
      "outputs": [
        {
          "output_type": "stream",
          "name": "stdout",
          "text": [
            "2\n",
            "4\n"
          ]
        }
      ]
    },
    {
      "cell_type": "markdown",
      "source": [
        "# Praktikum 5 - For pada Dictionary"
      ],
      "metadata": {
        "id": "UWhGI-F5leox"
      }
    },
    {
      "cell_type": "code",
      "source": [
        "data = {\"Nama\": \"Andi\", \"Umur\":20, \"Prodi\": \"TRK\"}\n",
        "\n",
        "for k, v in data.items():\n",
        "  print(k, \":\", v)"
      ],
      "metadata": {
        "colab": {
          "base_uri": "https://localhost:8080/"
        },
        "id": "S7a4OwBolVmm",
        "outputId": "135c8089-679f-4165-ee9c-607818972c43"
      },
      "execution_count": null,
      "outputs": [
        {
          "output_type": "stream",
          "name": "stdout",
          "text": [
            "Nama : Andi\n",
            "Umur : 20\n",
            "Prodi : TRK\n"
          ]
        }
      ]
    },
    {
      "cell_type": "markdown",
      "source": [
        "# Praktikum 6 - For dengan Enumerate"
      ],
      "metadata": {
        "id": "junImWEwmVrP"
      }
    },
    {
      "cell_type": "code",
      "source": [
        "daftar = [\"Andi\", \"Budi\", \"Cici\"]\n",
        "\n",
        "for i, nama in enumerate(daftar, start=1):\n",
        "  print(i, nama)"
      ],
      "metadata": {
        "colab": {
          "base_uri": "https://localhost:8080/"
        },
        "id": "yMcMnDBxmVZB",
        "outputId": "cac20ae5-9d2f-41dd-df42-a0a13102c665"
      },
      "execution_count": null,
      "outputs": [
        {
          "output_type": "stream",
          "name": "stdout",
          "text": [
            "1 Andi\n",
            "2 Budi\n",
            "3 Cici\n"
          ]
        }
      ]
    },
    {
      "cell_type": "markdown",
      "source": [
        "Praktikum 7 - Studi Kasus: Program Kasir Multi-Item"
      ],
      "metadata": {
        "id": "oBzpd6g5m9GL"
      }
    },
    {
      "cell_type": "code",
      "source": [
        "total = 0\n",
        "\n",
        "while True:\n",
        "  barang = input(\"Masukkan nama barang(ketik 'selesai' untuk berhenti): \")\n",
        "  if barang.lower() == \"selesai\":\n",
        "      break\n",
        "  harga = float(input(f\"Masukkan harga {barang}: \"))\n",
        "  jumlah = int(input(f\"Masukkan jumlah {barang}: \"))\n",
        "  subtotal = harga * jumlah\n",
        "  total += subtotal\n",
        "print(\"\\n===== Struk Belanja =====\")\n",
        "print(f\"Total Belanja : Rp {total}\")"
      ],
      "metadata": {
        "colab": {
          "base_uri": "https://localhost:8080/"
        },
        "id": "B2GGR9ZlnBov",
        "outputId": "1d0693fb-1362-4f8b-eab4-28e7b08feab4"
      },
      "execution_count": null,
      "outputs": [
        {
          "output_type": "stream",
          "name": "stdout",
          "text": [
            "Masukkan nama barang(ketik 'selesai' untuk berhenti): Buku\n",
            "Masukkan harga Buku: 50000\n",
            "Masukkan jumlah Buku: 2\n",
            "Masukkan nama barang(ketik 'selesai' untuk berhenti): Pulpen\n",
            "Masukkan harga Pulpen: 5000\n",
            "Masukkan jumlah Pulpen: 3\n",
            "Masukkan nama barang(ketik 'selesai' untuk berhenti): selesai\n",
            "\n",
            "===== Struk Belanja =====\n",
            "Total Belanja : Rp 115000.0\n"
          ]
        }
      ]
    },
    {
      "cell_type": "markdown",
      "source": [
        "# Penugasan 1 - Menampilkan Deret Angka"
      ],
      "metadata": {
        "id": "p8dgHwwnpuLk"
      }
    },
    {
      "cell_type": "code",
      "source": [
        "for i in range (3, 30):\n",
        "  step = 3\n",
        "  if i % step == 0:\n",
        "    print(i)"
      ],
      "metadata": {
        "colab": {
          "base_uri": "https://localhost:8080/"
        },
        "id": "UKRWWoHeoRPo",
        "outputId": "78d47aae-5b1c-40fd-c2ec-3bd7fadaee7e"
      },
      "execution_count": null,
      "outputs": [
        {
          "output_type": "stream",
          "name": "stdout",
          "text": [
            "3\n",
            "6\n",
            "9\n",
            "12\n",
            "15\n",
            "18\n",
            "21\n",
            "24\n",
            "27\n"
          ]
        }
      ]
    },
    {
      "cell_type": "markdown",
      "source": [
        "# Penugasan 2 - Hitung Faktorial"
      ],
      "metadata": {
        "id": "qOQjLA4Xsh4S"
      }
    },
    {
      "cell_type": "code",
      "source": [
        "n = int(input(\"Masukkan bilangan bulat positif: \"))\n",
        "faktorial = 1\n",
        "if n < 0:\n",
        "  print(\"Faktorial tidak terdefinisi untuk bilangan negatif\")\n",
        "elif n == 0:\n",
        "  print(\"Faktorial dari 0 adalah 1\")\n",
        "else:\n",
        "  i =1\n",
        "  while i <= n:\n",
        "    faktorial *= i\n",
        "    i += 1\n",
        "  print(f\"Faktorial dari {n} adalah {faktorial}\")"
      ],
      "metadata": {
        "colab": {
          "base_uri": "https://localhost:8080/"
        },
        "id": "5TrPiHNhslEP",
        "outputId": "f7c418b4-d532-4c3f-b1a9-6006cdddfdd3"
      },
      "execution_count": null,
      "outputs": [
        {
          "output_type": "stream",
          "name": "stdout",
          "text": [
            "Masukkan bilangan bulat positif: 5\n",
            "Faktorial dari 5 adalah 120\n"
          ]
        }
      ]
    },
    {
      "cell_type": "markdown",
      "source": [
        "# Penugasan 3 - Pola Segitiga Terbalik"
      ],
      "metadata": {
        "id": "bSe__exhs9X0"
      }
    },
    {
      "cell_type": "code",
      "source": [
        "tinggi = int(input(\"Masukkan tinggi segitiga: \"))\n",
        "\n",
        "for i in range(tinggi, 0, -1):\n",
        "  for j in range(i):\n",
        "    print(\"*\", end=\"\")\n",
        "  print()"
      ],
      "metadata": {
        "colab": {
          "base_uri": "https://localhost:8080/"
        },
        "id": "LIMen6GnssyY",
        "outputId": "b2c79d5a-38b0-422a-a684-9249ae3a1102"
      },
      "execution_count": null,
      "outputs": [
        {
          "output_type": "stream",
          "name": "stdout",
          "text": [
            "Masukkan tinggi segitiga: 5\n",
            "*****\n",
            "****\n",
            "***\n",
            "**\n",
            "*\n"
          ]
        }
      ]
    },
    {
      "cell_type": "markdown",
      "source": [
        "# Penugasan 4 - Cari Bilangan Prima dengan Break"
      ],
      "metadata": {
        "id": "W8WXjeuOtelA"
      }
    },
    {
      "cell_type": "code",
      "source": [
        "def is_prime(num):\n",
        "    if num <= 1:\n",
        "        return False\n",
        "    for i in range(2, int(num**0.5) + 1):\n",
        "        if num % i == 0:\n",
        "            return False\n",
        "    return True\n",
        "\n",
        "print(\"Bilangan prima antara 1 dan 50:\")\n",
        "for num in range(1, 51):\n",
        "    if is_prime(num):\n",
        "        print(num)\n"
      ],
      "metadata": {
        "colab": {
          "base_uri": "https://localhost:8080/"
        },
        "id": "I46QEzSMtlyr",
        "outputId": "038fb9c6-a9ef-482f-bd7c-c31d02d123b2"
      },
      "execution_count": null,
      "outputs": [
        {
          "output_type": "stream",
          "name": "stdout",
          "text": [
            "Bilangan prima antara 1 dan 50:\n",
            "2\n",
            "3\n",
            "5\n",
            "7\n",
            "11\n",
            "13\n",
            "17\n",
            "19\n",
            "23\n",
            "29\n",
            "31\n",
            "37\n",
            "41\n",
            "43\n",
            "47\n"
          ]
        }
      ]
    },
    {
      "cell_type": "markdown",
      "source": [
        "# Penugasan 5 - Tampilkan Hanya Bilangan Genap dengan Continue"
      ],
      "metadata": {
        "id": "yQoBGIxJvKuB"
      }
    },
    {
      "cell_type": "code",
      "source": [
        "for i in range(1, 21):\n",
        "  if i % 2 != 0:\n",
        "    continue\n",
        "  print(i)"
      ],
      "metadata": {
        "colab": {
          "base_uri": "https://localhost:8080/"
        },
        "id": "HfbIFSMrvT3A",
        "outputId": "9a3c5ca1-773c-4753-98f6-009931827410"
      },
      "execution_count": null,
      "outputs": [
        {
          "output_type": "stream",
          "name": "stdout",
          "text": [
            "2\n",
            "4\n",
            "6\n",
            "8\n",
            "10\n",
            "12\n",
            "14\n",
            "16\n",
            "18\n",
            "20\n"
          ]
        }
      ]
    },
    {
      "cell_type": "markdown",
      "source": [
        "# Penugasan 6 - Iterasi Dictionary Mahasiswa"
      ],
      "metadata": {
        "id": "NdUasviKviTV"
      }
    },
    {
      "cell_type": "code",
      "source": [
        "data = {\"Nama\": \"Budi\", \"Umur\": 21, \"Prodi\": \"Teknik Komputer\"}\n",
        "for k, v in data.items():\n",
        "  print(k, \":\", v)\n"
      ],
      "metadata": {
        "colab": {
          "base_uri": "https://localhost:8080/"
        },
        "id": "ssyiFaayvm4z",
        "outputId": "23ebf557-4a6f-4201-ae9f-4201624ed7ad"
      },
      "execution_count": null,
      "outputs": [
        {
          "output_type": "stream",
          "name": "stdout",
          "text": [
            "Nama : Budi\n",
            "Umur : 21\n",
            "Prodi : Teknik Komputer\n"
          ]
        }
      ]
    },
    {
      "cell_type": "markdown",
      "source": [
        "# Penugasan 7 - Enumerate Daftar Barang"
      ],
      "metadata": {
        "id": "HZsR6SOiv2PX"
      }
    },
    {
      "cell_type": "code",
      "source": [
        "Barang = (\"Buku\", \"Pulpen\", \"Tas\")\n",
        "for i, nama in enumerate(Barang, start=1):\n",
        "  print(i, nama)"
      ],
      "metadata": {
        "colab": {
          "base_uri": "https://localhost:8080/"
        },
        "id": "SmRMofqHv6AY",
        "outputId": "42d7e20b-51b8-437c-ace1-e2e90e403dae"
      },
      "execution_count": null,
      "outputs": [
        {
          "output_type": "stream",
          "name": "stdout",
          "text": [
            "1 Buku\n",
            "2 Pulpen\n",
            "3 Tas\n"
          ]
        }
      ]
    },
    {
      "cell_type": "markdown",
      "source": [
        "# Penugasan 8 - Studi Kasus - Kasir Diskon"
      ],
      "metadata": {
        "id": "xBkg60uFwDhG"
      }
    },
    {
      "cell_type": "code",
      "source": [
        "total = 0\n",
        "diskon_total = 0\n",
        "\n",
        "while True:\n",
        "  barang = input(\"Masukkan nama barang(ketik 'selesai' untuk berhenti): \")\n",
        "  if barang.lower() == \"selesai\":\n",
        "    break\n",
        "  harga = float(input(f\"Masukkan harga {barang}: \"))\n",
        "  jumlah = int(input(f\"Masukkan jumlah {barang}: \"))\n",
        "  subtotal = harga * jumlah\n",
        "  total += subtotal\n",
        "\n",
        "  diskon_item = 0\n",
        "  if subtotal >= 2000000:\n",
        "    diskon_item = subtotal *0.1\n",
        "  diskon_total += diskon_item\n",
        "\n",
        "  print(\"\\n===== Struk Belanja =====\")\n",
        "  print(f\"Total Belanja sebelum diskon: Rp {total}\")\n",
        "  print(f\"Total Diskon: Rp {diskon_total}\")\n",
        "  print(f\"Total Bayar: Rp {total - diskon_total}\")"
      ],
      "metadata": {
        "colab": {
          "base_uri": "https://localhost:8080/"
        },
        "id": "by_x2z8ZxmIP",
        "outputId": "a32ced19-bfec-4c11-e76a-c5fa6461e2aa"
      },
      "execution_count": 2,
      "outputs": [
        {
          "name": "stdout",
          "output_type": "stream",
          "text": [
            "Masukkan nama barang(ketik 'selesai' untuk berhenti): OP1 8K - Endgame Gaming Mouse\n",
            "Masukkan harga OP1 8K - Endgame Gaming Mouse: 2500000\n",
            "Masukkan jumlah OP1 8K - Endgame Gaming Mouse: 1\n",
            "\n",
            "===== Struk Belanja =====\n",
            "Total Belanja sebelum diskon: Rp 2500000.0\n",
            "Total Diskon: Rp 250000.0\n",
            "Total Bayar: Rp 2250000.0\n",
            "Masukkan nama barang(ketik 'selesai' untuk berhenti): ASUS NVIDIA RTX 5090 24GB\n",
            "Masukkan harga ASUS NVIDIA RTX 5090 24GB: 51320000\n",
            "Masukkan jumlah ASUS NVIDIA RTX 5090 24GB: 1\n",
            "\n",
            "===== Struk Belanja =====\n",
            "Total Belanja sebelum diskon: Rp 53820000.0\n",
            "Total Diskon: Rp 5382000.0\n",
            "Total Bayar: Rp 48438000.0\n",
            "Masukkan nama barang(ketik 'selesai' untuk berhenti): selesai\n"
          ]
        }
      ]
    }
  ]
}